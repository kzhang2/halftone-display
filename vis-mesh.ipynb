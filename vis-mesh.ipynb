{
 "cells": [
  {
   "cell_type": "code",
   "execution_count": 1,
   "metadata": {},
   "outputs": [],
   "source": [
    "import trimesh"
   ]
  },
  {
   "cell_type": "code",
   "execution_count": 2,
   "metadata": {},
   "outputs": [],
   "source": [
    "# scene = trimesh.load_mesh(\"scene.obj\")\n",
    "# scene = trimesh.load_mesh(\"fumo_blue.glb\")\n",
    "scene = trimesh.load_mesh(\"scene.glb\")"
   ]
  },
  {
   "cell_type": "code",
   "execution_count": 3,
   "metadata": {},
   "outputs": [],
   "source": [
    "count = 0\n",
    "sample_tiles = []\n",
    "limit = 10\n",
    "total_v = 0\n",
    "for geo in scene.geometry:\n",
    "    sample_geo = scene.geometry[geo]\n",
    "    # print(sample_geo)\n",
    "    # sample_tiles.append(scene.geometry[geo])\n",
    "    if len(sample_geo.vertices) > 250:\n",
    "        sample_geo.faces = sample_geo.faces[:len(sample_geo.vertices)//3] # hack bc three.js is buggy\n",
    "        sample_tiles.append(sample_geo)   \n",
    "        # print(sample_geo.vertices[:10])\n",
    "        # print(sample_geo.faces[:10])\n",
    "    count += 1\n",
    "    total_v += len(sample_geo.vertices)\n",
    "\n",
    "    # if count >= limit: break"
   ]
  },
  {
   "cell_type": "code",
   "execution_count": 4,
   "metadata": {},
   "outputs": [
    {
     "name": "stdout",
     "output_type": "stream",
     "text": [
      "<trimesh.Trimesh(vertices.shape=(10474470, 3), faces.shape=(3491490, 3))>\n"
     ]
    }
   ],
   "source": [
    "combined_sample_mesh = trimesh.util.concatenate(sample_tiles)\n",
    "print(combined_sample_mesh)"
   ]
  },
  {
   "cell_type": "code",
   "execution_count": 5,
   "metadata": {},
   "outputs": [],
   "source": [
    "combined_sample_mesh.merge_vertices()"
   ]
  },
  {
   "cell_type": "code",
   "execution_count": 6,
   "metadata": {},
   "outputs": [
    {
     "data": {
      "text/plain": [
       "<trimesh.Trimesh(vertices.shape=(2768434, 3), faces.shape=(3491490, 3))>"
      ]
     },
     "execution_count": 6,
     "metadata": {},
     "output_type": "execute_result"
    }
   ],
   "source": [
    "combined_sample_mesh"
   ]
  },
  {
   "cell_type": "code",
   "execution_count": 7,
   "metadata": {},
   "outputs": [],
   "source": [
    "with open(f\"scene_merged.glb\", \"wb\") as f:\n",
    "    f.write(trimesh.exchange.gltf.export_glb(combined_sample_mesh, include_normals=True))"
   ]
  },
  {
   "cell_type": "code",
   "execution_count": 71,
   "metadata": {},
   "outputs": [],
   "source": [
    "with open(f\"fumo_blue_merged.glb\", \"wb\") as f:\n",
    "    f.write(trimesh.exchange.gltf.export_glb(combined_sample_mesh, include_normals=True))"
   ]
  },
  {
   "cell_type": "code",
   "execution_count": 10,
   "metadata": {},
   "outputs": [],
   "source": [
    "scene_merged = trimesh.load_mesh(\"scene_merged.glb\")\n"
   ]
  },
  {
   "cell_type": "code",
   "execution_count": 12,
   "metadata": {},
   "outputs": [
    {
     "data": {
      "text/plain": [
       "array([[ 1.        ,  0.        ,  0.        ],\n",
       "       [ 1.        , -0.        ,  0.        ],\n",
       "       [-1.        ,  0.        ,  0.        ],\n",
       "       ...,\n",
       "       [-0.63311581, -0.77157906, -0.0618881 ],\n",
       "       [-0.63324295, -0.77147372, -0.06190052],\n",
       "       [-0.63319928, -0.77149255, -0.06211223]])"
      ]
     },
     "execution_count": 12,
     "metadata": {},
     "output_type": "execute_result"
    }
   ],
   "source": [
    "scene_merged.geometry[\"geometry_0\"].face_normals"
   ]
  },
  {
   "cell_type": "code",
   "execution_count": 30,
   "metadata": {},
   "outputs": [],
   "source": [
    "# with open(f\"scene_merged.obj\", \"w\") as f:\n",
    "#     f.write(trimesh.exchange.obj.export_obj(combined_sample_mesh))"
   ]
  },
  {
   "cell_type": "code",
   "execution_count": 13,
   "metadata": {},
   "outputs": [],
   "source": [
    "scene_1 = trimesh.load_mesh(\"scene_25_first_half.glb\")"
   ]
  },
  {
   "cell_type": "code",
   "execution_count": 14,
   "metadata": {},
   "outputs": [],
   "source": [
    "scene_2 = trimesh.load_mesh(\"scene_25_second_half.glb\")"
   ]
  },
  {
   "cell_type": "code",
   "execution_count": 16,
   "metadata": {},
   "outputs": [],
   "source": [
    "count = 0\n",
    "sample_tiles = []\n",
    "limit = 1000000\n",
    "for geo in scene_1.geometry:\n",
    "    sample_geo = scene_1.geometry[geo]\n",
    "    # print(sample_geo)\n",
    "    # sample_tiles.append(scene.geometry[geo])\n",
    "    if len(sample_geo.vertices) > 1500:\n",
    "        sample_tiles.append(sample_geo)\n",
    "    count += 1\n",
    "    if count >= limit: break\n",
    "\n",
    "for geo in scene_2.geometry:\n",
    "    sample_geo = scene_2.geometry[geo]\n",
    "    # print(sample_geo)\n",
    "    # sample_tiles.append(scene.geometry[geo])\n",
    "    if len(sample_geo.vertices) > 1500:\n",
    "        sample_tiles.append(sample_geo)\n",
    "    count += 1\n",
    "    if count >= limit: break"
   ]
  },
  {
   "cell_type": "code",
   "execution_count": 17,
   "metadata": {},
   "outputs": [
    {
     "data": {
      "text/plain": [
       "19603"
      ]
     },
     "execution_count": 17,
     "metadata": {},
     "output_type": "execute_result"
    }
   ],
   "source": [
    "len(sample_tiles)"
   ]
  },
  {
   "cell_type": "code",
   "execution_count": 18,
   "metadata": {},
   "outputs": [
    {
     "name": "stderr",
     "output_type": "stream",
     "text": [
      "concatenating texture: may result in visual artifacts\n"
     ]
    },
    {
     "name": "stdout",
     "output_type": "stream",
     "text": [
      "<trimesh.Trimesh(vertices.shape=(34364898, 3), faces.shape=(11454966, 3))>\n"
     ]
    }
   ],
   "source": [
    "combined_sample_mesh = trimesh.util.concatenate(sample_tiles)\n",
    "print(combined_sample_mesh)"
   ]
  },
  {
   "cell_type": "code",
   "execution_count": 19,
   "metadata": {},
   "outputs": [],
   "source": [
    "combined_sample_mesh.merge_vertices()"
   ]
  },
  {
   "cell_type": "code",
   "execution_count": 20,
   "metadata": {},
   "outputs": [
    {
     "name": "stdout",
     "output_type": "stream",
     "text": [
      "<trimesh.Trimesh(vertices.shape=(14688929, 3), faces.shape=(11454966, 3))>\n"
     ]
    }
   ],
   "source": [
    "print(combined_sample_mesh)"
   ]
  },
  {
   "cell_type": "code",
   "execution_count": 21,
   "metadata": {},
   "outputs": [],
   "source": [
    "with open(f\"scene_25_merged.glb\", \"wb\") as f:\n",
    "    f.write(trimesh.exchange.gltf.export_glb(combined_sample_mesh))"
   ]
  },
  {
   "cell_type": "code",
   "execution_count": null,
   "metadata": {},
   "outputs": [],
   "source": []
  }
 ],
 "metadata": {
  "kernelspec": {
   "display_name": "research",
   "language": "python",
   "name": "python3"
  },
  "language_info": {
   "codemirror_mode": {
    "name": "ipython",
    "version": 3
   },
   "file_extension": ".py",
   "mimetype": "text/x-python",
   "name": "python",
   "nbconvert_exporter": "python",
   "pygments_lexer": "ipython3",
   "version": "3.9.18"
  }
 },
 "nbformat": 4,
 "nbformat_minor": 2
}
